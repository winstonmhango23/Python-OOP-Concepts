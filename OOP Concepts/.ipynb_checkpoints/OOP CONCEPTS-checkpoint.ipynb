{
 "cells": [
  {
   "cell_type": "code",
   "execution_count": 1,
   "id": "57e27b8c",
   "metadata": {},
   "outputs": [],
   "source": [
    "# creating a class in python...you start with the \"class\" key word, name of the class(with a Capital letter), and colon(:)\n",
    "class Robot:\n",
    "    pass\n",
    "\n",
    "#  A class consists of two parts: the header and the body. The header usually consists of just one line of code. \n",
    "# It begins with the keyword \"class\" followed by a blank and an arbitrary name for the class. The class name is \"Robot\" \n",
    "# in our case. The class name is followed by a listing of other class names, which are classes from which the defined class\n",
    "# inherits. These classes are called superclasses, base classes or sometimes parent classes. If you look at our example, \n",
    "# you will see that this listing of superclasses is not obligatory.\n",
    "# You don't have to bother about inheritance and superclasses for now. We will introduce them later."
   ]
  },
  {
   "cell_type": "code",
   "execution_count": 2,
   "id": "12b46e81",
   "metadata": {},
   "outputs": [
    {
     "name": "stdout",
     "output_type": "stream",
     "text": [
      "True\n",
      "False\n"
     ]
    }
   ],
   "source": [
    "# We are capable of using this class as well by creating instances of it\n",
    "class Robot:\n",
    "    pass\n",
    "if __name__ == \"__main__\":\n",
    "    x = Robot()\n",
    "    y = Robot()\n",
    "    y2 = y\n",
    "    print(y == y2)\n",
    "    print(y == x)\n",
    "\n"
   ]
  },
  {
   "cell_type": "code",
   "execution_count": 6,
   "id": "3b41746c",
   "metadata": {},
   "outputs": [
    {
     "name": "stdout",
     "output_type": "stream",
     "text": [
      "Marvin\n"
     ]
    }
   ],
   "source": [
    "#  So far our robots have no attributes. Not even a name, like it is customary for ordinary robots, isn't it? So, \n",
    "# let's implement a name attribute. \"type designation\", \"build year\" etc. are easily conceivable as further attributes\n",
    "# as well***.\n",
    "\n",
    "# Attributes are created inside a class definition\n",
    "class Robot:\n",
    "    pass\n",
    "x = Robot()\n",
    "y = Robot()\n",
    "x.name = \"Marvin\"\n",
    "x.build_year = \"1979\"\n",
    "y.name = \"Caliban\"\n",
    "y.build_year = \"1993\"\n",
    "print(x.name)\n",
    "# we have used the dot notation to create our attributes"
   ]
  },
  {
   "cell_type": "code",
   "execution_count": 7,
   "id": "73a5708b",
   "metadata": {},
   "outputs": [
    {
     "data": {
      "text/plain": [
       "{'name': 'Marvin', 'build_year': '1979'}"
      ]
     },
     "execution_count": 7,
     "metadata": {},
     "output_type": "execute_result"
    }
   ],
   "source": [
    "# The instances possess dictionaries __dict__, which they use to store their attributes and their corresponding values:\n",
    "x.__dict__"
   ]
  },
  {
   "cell_type": "code",
   "execution_count": 8,
   "id": "397e0e63",
   "metadata": {},
   "outputs": [
    {
     "data": {
      "text/plain": [
       "mappingproxy({'__module__': '__main__',\n",
       "              '__dict__': <attribute '__dict__' of 'Robot' objects>,\n",
       "              '__weakref__': <attribute '__weakref__' of 'Robot' objects>,\n",
       "              '__doc__': None})"
      ]
     },
     "execution_count": 8,
     "metadata": {},
     "output_type": "execute_result"
    }
   ],
   "source": [
    "Robot.__dict__"
   ]
  },
  {
   "cell_type": "code",
   "execution_count": 9,
   "id": "71af235d",
   "metadata": {},
   "outputs": [
    {
     "name": "stdout",
     "output_type": "stream",
     "text": [
      "Hi, I am Marvin\n"
     ]
    }
   ],
   "source": [
    "# We can also bind functions to classes\n",
    "def hi(obj):\n",
    "        print(\"Hi, I am \" + obj.name)\n",
    "        \n",
    "class Robot:\n",
    "#     say_hi is a method here, while hi is a function(defined outside the class)\n",
    "    say_hi = hi\n",
    "    \n",
    "x = Robot()\n",
    "x.name = \"Marvin\"\n",
    "Robot.say_hi(x)"
   ]
  },
  {
   "cell_type": "code",
   "execution_count": null,
   "id": "2f70f0e2",
   "metadata": {},
   "outputs": [],
   "source": [
    "# Instead of defining a function outside of a class definition and binding it to a class attribute, we define a method directly inside (indented) of a class definition.\n",
    "# A method is \"just\" a function which is defined inside a class.\n",
    "# The first parameter is used a reference to the calling instance.\n",
    "# This parameter is usually called self.\n",
    "# Self corresponds to the Robot object x.\n",
    "\n",
    "# It belongs to a class, and it is defined within a class\n",
    "# The first parameter in the definition of a method has to be a reference to the instance, which called the method. This parameter is usually called \"self\"."
   ]
  },
  {
   "cell_type": "code",
   "execution_count": null,
   "id": "72ceef7e",
   "metadata": {},
   "outputs": [],
   "source": [
    "# We want to define the attributes of an instance right after its creation. __init__ is a method which \n",
    "# is immediately and automatically called after an instance has been created. This name is fixed and it is not possible\n",
    "# to chose another name. __init__ is one of the so-called magic methods,we will get to know it with some more details later. \n",
    "# The __init__ method is used to initialize an instance. There is no explicit constructor or destructor method in Python, \n",
    "# as they are known in C++ and Java. The __init__ method can be anywhere in a class definition, \n",
    "# but it is usually the first method of a class, i.e. it follows right after the class header."
   ]
  },
  {
   "cell_type": "code",
   "execution_count": 10,
   "id": "c4a0d99b",
   "metadata": {},
   "outputs": [
    {
     "name": "stdout",
     "output_type": "stream",
     "text": [
      "__init__ has been CALLED!\n"
     ]
    }
   ],
   "source": [
    "class A:\n",
    "    def __init__(self):\n",
    "        print(\"__init__ has been CALLED!\")\n",
    "x = A()"
   ]
  },
  {
   "cell_type": "code",
   "execution_count": 11,
   "id": "cbc1d341",
   "metadata": {},
   "outputs": [
    {
     "name": "stdout",
     "output_type": "stream",
     "text": [
      "Hi, I am a robot without a name\n",
      "Hi, I am Marvin\n"
     ]
    }
   ],
   "source": [
    "class Robot:\n",
    "    def __init__(self, name=None):\n",
    "        self.name = name   \n",
    "    def say_hi(self):\n",
    "        if self.name:\n",
    "            print(\"Hi, I am \" + self.name)\n",
    "        else:\n",
    "            print(\"Hi, I am a robot without a name\")\n",
    "x = Robot()\n",
    "x.say_hi()\n",
    "y = Robot(\"Marvin\")\n",
    "y.say_hi()"
   ]
  },
  {
   "cell_type": "code",
   "execution_count": null,
   "id": "bf47a930",
   "metadata": {},
   "outputs": [],
   "source": [
    "# Data Abstraction, Data Encapsulation, and Information Hiding"
   ]
  },
  {
   "cell_type": "code",
   "execution_count": 12,
   "id": "d98ad200",
   "metadata": {},
   "outputs": [
    {
     "name": "stdout",
     "output_type": "stream",
     "text": [
      "Hi, I am Henry\n",
      "Henry\n"
     ]
    }
   ],
   "source": [
    "class Robot:\n",
    "    def __init__(self, name=None):\n",
    "        self.name = name   \n",
    "    def say_hi(self):\n",
    "        if self.name:\n",
    "            print(\"Hi, I am \" + self.name)\n",
    "        else:\n",
    "            print(\"Hi, I am a robot without a name\")\n",
    "    def set_name(self, name):\n",
    "        self.name = name\n",
    "    def get_name(self):\n",
    "        return self.name\n",
    "x = Robot()\n",
    "x.set_name(\"Henry\")\n",
    "x.say_hi()\n",
    "y = Robot()\n",
    "y.set_name(x.get_name())\n",
    "print(y.get_name())"
   ]
  },
  {
   "cell_type": "code",
   "execution_count": null,
   "id": "87e7cccb",
   "metadata": {},
   "outputs": [],
   "source": [
    "# Data Abstraction, Data Encapsulation and Information Hiding are often synonymously used in books and tutorials on OOP.\n",
    "# However, there is a difference. Encapsulation is seen as the bundling of data with the methods that operate on that data. \n",
    "# Information hiding on the other hand is the principle that some internal information or data is \"hidden\", so that it can't be\n",
    "# accidentally changed. Data encapsulation via methods doesn't necessarily mean that the data is hidden. You might be capable \n",
    "# of accessing and seeing the data anyway, but using the methods is recommended. Finally, data abstraction is present, if \n",
    "# both data hiding and data encapsulation is used. In other words, data abstraction is the broader term:\n",
    "\n",
    "# Data Abstraction = Data Encapsulation + Data Hiding\n",
    "# Encapsulation is often accomplished by providing two kinds of methods for attributes: The methods for retrieving or accessing \n",
    "# the values of attributes are called getter methods. Getter methods do not change the values of attributes, they just return \n",
    "# the values. The methods used for changing the values of attributes are called setter methods.\n",
    "\n",
    "# We will define now a Robot class with a Getter and a Setter for the name attribute. We will call them get_name and set_name \n",
    "# accordingly."
   ]
  },
  {
   "cell_type": "code",
   "execution_count": null,
   "id": "f31064f6",
   "metadata": {},
   "outputs": [],
   "source": [
    "class Robot:\n",
    "    def __init__(self, \n",
    "                 name=None,\n",
    "                 build_year=None):\n",
    "        self.name = name   \n",
    "        self.build_year = build_year\n",
    "    def say_hi(self):\n",
    "        if self.name:\n",
    "            print(\"Hi, I am \" + self.name)\n",
    "        else:\n",
    "            print(\"Hi, I am a robot without a name\")\n",
    "        if self.build_year:\n",
    "            print(\"I was built in \" + str(self.build_year))\n",
    "        else:\n",
    "            print(\"It's not known, when I was created!\")\n",
    "    def set_name(self, name):\n",
    "        self.name = name\n",
    "    def get_name(self):\n",
    "        return self.name    \n",
    "    def set_build_year(self, by):\n",
    "        self.build_year = by\n",
    "    def get_build_year(self):\n",
    "        return self.build_year    \n",
    "x = Robot(\"Henry\", 2008)\n",
    "y = Robot()\n",
    "y.set_name(\"Marvin\")\n",
    "x.say_hi()\n",
    "y.say_hi()"
   ]
  },
  {
   "cell_type": "code",
   "execution_count": null,
   "id": "c25d01f7",
   "metadata": {},
   "outputs": [],
   "source": [
    "# There is still something wrong with our Robot class. The Zen of Python says: \"There should be one-- and preferably only one \n",
    "# --obvious way to do it.\" Our Robot class provides us with two ways to access or to change the \"name\" or the \"build_year\" \n",
    "# attribute. This can be prevented by using private attributes, which we will explain later.\n"
   ]
  },
  {
   "cell_type": "code",
   "execution_count": null,
   "id": "825c1bbc",
   "metadata": {},
   "outputs": [],
   "source": [
    "# Public, - Protected-, and Private Attributes\n",
    "\n",
    "# Some owners allow a restricted access to their property. Joggers or hikers may find signs like \"Enter at your own risk\". A third kind of property might be public property like streets or parks, where it is perfectly legal to be.\n",
    "\n",
    "# We have the same classification again in object-oriented programming:\n",
    "\n",
    "# Private attributes should only be used by the owner, i.e. inside of the class definition itself.\n",
    "# Protected (restricted) Attributes may be used, but at your own risk. Essentially, they should only be used under certain conditions.\n",
    "# Public Attributes can and should be freely used.\n",
    "# Python uses a special naming scheme for attributes to control the accessibility of the attributes. So far, we have used attribute names, which can be freely used inside or outside of a class definition, as we have seen. This corresponds to public attributes of course. There are two ways to restrict the access to class attributes:\n",
    "\n",
    "# First, we can prefix an attribute name with a leading underscore \"_\". This marks the attribute as protected. It tells users of the class not to use this attribute unless, they write a subclass. We will learn about inheritance and subclassing in the next chapter of our tutorial.\n",
    "# Second, we can prefix an attribute name with two leading underscores \"__\". The attribute is now inaccessible and invisible from outside. It's neither possible to read nor write to those attributes except inside the class definition itself*.\n",
    "# To summarize the attribute types:"
   ]
  },
  {
   "cell_type": "code",
   "execution_count": null,
   "id": "8c2ddb39",
   "metadata": {},
   "outputs": [],
   "source": [
    "class A():\n",
    "    def __init__(self):\n",
    "        self.__priv = \"I am private\"\n",
    "        self._prot = \"I am protected\"\n",
    "        self.pub = \"I am public\""
   ]
  },
  {
   "cell_type": "code",
   "execution_count": null,
   "id": "3153589f",
   "metadata": {},
   "outputs": [],
   "source": [
    "# Our next task is rewriting our Robot class. Though we have Getter and Setter methods for the name and the build_year, we can access the attributes directly as well, because we have defined them as public attributes. Data Encapsulation means, that we should only be able to access private attributes via getters and setters.\n",
    "\n",
    "# We have to replace each occurrence of self.name and self.build_year by self.__name and self.__build_year."
   ]
  },
  {
   "cell_type": "code",
   "execution_count": 13,
   "id": "2e7b98f1",
   "metadata": {},
   "outputs": [
    {
     "name": "stdout",
     "output_type": "stream",
     "text": [
      "Hi, I am Marvin\n",
      "I was built in the year 1979!\n",
      "Hi, I am Caliban\n",
      "I was built in the year 1993!\n"
     ]
    }
   ],
   "source": [
    "class Robot:\n",
    "    def __init__(self, name=None, build_year=2000):\n",
    "        self.__name = name\n",
    "        self.__build_year = build_year\n",
    "    def say_hi(self):\n",
    "        if self.__name:\n",
    "            print(\"Hi, I am \" + self.__name)\n",
    "        else:\n",
    "            print(\"Hi, I am a robot without a name\")\n",
    "    def set_name(self, name):\n",
    "        self.__name = name\n",
    "    def get_name(self):\n",
    "        return self.__name    \n",
    "    def set_build_year(self, by):\n",
    "        self.__build_year = by\n",
    "    def get_build_year(self):\n",
    "        return self.__build_year    \n",
    "    def __repr__(self):\n",
    "        return \"Robot('\" + self.__name + \"', \" +  str(self.__build_year) +  \")\"\n",
    "    def __str__(self):\n",
    "        return \"Name: \" + self.__name + \", Build Year: \" +  str(self.__build_year)\n",
    "if __name__ == \"__main__\":\n",
    "    x = Robot(\"Marvin\", 1979)\n",
    "    y = Robot(\"Caliban\", 1943)\n",
    "    for rob in [x, y]:\n",
    "        rob.say_hi()\n",
    "        if rob.get_name() == \"Caliban\":\n",
    "            rob.set_build_year(1993)\n",
    "        print(\"I was built in the year \" + str(rob.get_build_year()) + \"!\")"
   ]
  },
  {
   "cell_type": "code",
   "execution_count": null,
   "id": "e988330a",
   "metadata": {},
   "outputs": [],
   "source": [
    "# What we said about constructors holds true for destructors as well. There is no \"real\" destructor, but something similar, i.e. the method __del__. It is called when the instance is about to be destroyed and if there is no other reference to this instance. If a base class has a __del__() method, the derived class's __del__() method, if any, must explicitly call it to ensure proper deletion of the base class part of the instance.\n",
    "\n",
    "# The following script is an example with __init__ and __del__:"
   ]
  },
  {
   "cell_type": "code",
   "execution_count": null,
   "id": "2a0b4a50",
   "metadata": {},
   "outputs": [],
   "source": [
    "class Robot():\n",
    "    def __init__(self, name):\n",
    "        print(name + \" has been created!\")\n",
    "    def __del__(self):\n",
    "        print (\"Robot has been destroyed\")\n",
    "if __name__ == \"__main__\":\n",
    "    x = Robot(\"Tik-Tok\")\n",
    "    y = Robot(\"Jenkins\")\n",
    "    z = x\n",
    "    print(\"Deleting x\")\n",
    "    del x\n",
    "    print(\"Deleting z\")\n",
    "    del z\n",
    "    del y"
   ]
  }
 ],
 "metadata": {
  "kernelspec": {
   "display_name": "Python 3 (ipykernel)",
   "language": "python",
   "name": "python3"
  },
  "language_info": {
   "codemirror_mode": {
    "name": "ipython",
    "version": 3
   },
   "file_extension": ".py",
   "mimetype": "text/x-python",
   "name": "python",
   "nbconvert_exporter": "python",
   "pygments_lexer": "ipython3",
   "version": "3.9.13"
  }
 },
 "nbformat": 4,
 "nbformat_minor": 5
}
